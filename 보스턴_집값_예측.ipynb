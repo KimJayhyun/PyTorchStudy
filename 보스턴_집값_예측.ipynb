{
  "nbformat": 4,
  "nbformat_minor": 0,
  "metadata": {
    "colab": {
      "provenance": []
    },
    "kernelspec": {
      "name": "python3",
      "display_name": "Python 3"
    },
    "language_info": {
      "name": "python"
    }
  },
  "cells": [
    {
      "cell_type": "markdown",
      "source": [
        "# 보스턴 집값 예측하기\n",
        "- scikit-learn 에서 정한 14개의 feature만 사용\n"
      ],
      "metadata": {
        "id": "TGRrBBYTG-La"
      }
    },
    {
      "cell_type": "markdown",
      "source": [
        "## 데이터 불러오기"
      ],
      "metadata": {
        "id": "8kAtUiOHHObW"
      }
    },
    {
      "cell_type": "code",
      "execution_count": 1,
      "metadata": {
        "colab": {
          "base_uri": "https://localhost:8080/"
        },
        "id": "3vnouPDQGu99",
        "outputId": "582e8184-1329-44d5-e598-de39a6e3fc4c"
      },
      "outputs": [
        {
          "output_type": "stream",
          "name": "stdout",
          "text": [
            "<class 'pandas.core.frame.DataFrame'>\n"
          ]
        },
        {
          "output_type": "stream",
          "name": "stderr",
          "text": [
            "/usr/local/lib/python3.10/dist-packages/sklearn/datasets/_openml.py:301: UserWarning: Multiple active versions of the dataset matching the name boston exist. Versions may be fundamentally different, returning version 1.\n",
            "  warn(\n",
            "/usr/local/lib/python3.10/dist-packages/sklearn/datasets/_openml.py:968: FutureWarning: The default value of `parser` will change from `'liac-arff'` to `'auto'` in 1.4. You can set `parser='auto'` to silence this warning. Therefore, an `ImportError` will be raised from 1.4 if the dataset is dense and pandas is not installed. Note that the pandas parser may return different data types. See the Notes Section in fetch_openml's API doc for details.\n",
            "  warn(\n"
          ]
        }
      ],
      "source": [
        "from sklearn import datasets\n",
        "import pandas as pd\n",
        "\n",
        "data_frame, y = datasets.fetch_openml('boston', return_X_y=True)\n",
        "\n",
        "data_frame['target'] = y\n",
        "\n",
        "# print(data_frame.head())\n",
        "# print(len(data_frame.columns))\n",
        "\n",
        "print(type(data_frame))"
      ]
    },
    {
      "cell_type": "markdown",
      "source": [
        "## 학습 루프\n"
      ],
      "metadata": {
        "id": "h5lYdiPeJ6cQ"
      }
    },
    {
      "cell_type": "markdown",
      "source": [
        "## Batch and Epoch\n",
        "\n",
        "- 데이터가 총 1000 개\n",
        "- 만약 Batch Size : 100\n",
        "> Batch 가 10 번이여야 모든 데이터 사용\n",
        "- 1000 개의 데이터를 한 번 학습시키면 1 epoch\n",
        "> epoch : Batch Size로 전체 데이터를 모두 학습하는 단위\n",
        "- 이 때, iteration은 10\n",
        "> iteration : Batch Size로 1 epoch 를 학습시킬 수 있는 배치 반복 횟수\n",
        "\n"
      ],
      "metadata": {
        "id": "no7tSIJXNCJK"
      }
    },
    {
      "cell_type": "code",
      "source": [
        "import torch\n",
        "import torch.nn as nn\n",
        "import numpy as np\n",
        "\n",
        "from torch.optim.adam import Adam\n",
        "\n",
        "# 1. 모델 정의\n",
        "model = nn.Sequential(\n",
        "    nn.Linear(13, 100),\n",
        "    nn.ReLU(),\n",
        "    nn.Linear(100, 1)\n",
        ")\n",
        "\n",
        "# 2. 데이터 로드\n",
        "X = data_frame.iloc[:, :13].values\n",
        "Y = data_frame[\"target\"].values\n",
        "\n",
        "X=np.vstack(X).astype(np.float)\n",
        "Y=np.vstack(Y).astype(np.float)\n",
        "\n",
        "\n",
        "batch_size = 100\n",
        "learning_rate = 0.001\n",
        "\n",
        "# 3. Loss Function 정의\n",
        "optim = Adam(model.parameters(), lr = learning_rate)\n",
        "\n",
        "# epoch를 200으로 설정\n",
        "for epoch in range(800):\n",
        "  for i in range(len(X) // batch_size):\n",
        "    start = i * batch_size\n",
        "    end = start + batch_size\n",
        "\n",
        "    x = torch.FloatTensor(X[start:end])\n",
        "    y = torch.FloatTensor(Y[start:end])\n",
        "    # x = torch.from_numpy(X[start:end])\n",
        "    # y = torch.from_numpy(Y[start:end])\n",
        "\n",
        "    # 가중치의 기울기 0으로 초기화\n",
        "    optim.zero_grad()\n",
        "\n",
        "    # 예측값 계산\n",
        "    preds = model(x)\n",
        "\n",
        "    # loss 계산\n",
        "    loss = nn.MSELoss()(preds, y)\n",
        "\n",
        "    # 오차 역전파\n",
        "    loss.backward()\n",
        "\n",
        "    # 최적화 진행\n",
        "    optim.step()\n",
        "\n",
        "  if epoch % 20 == 0:\n",
        "    print(f\"epoch {epoch} // loss : {loss}\")\n"
      ],
      "metadata": {
        "colab": {
          "base_uri": "https://localhost:8080/"
        },
        "id": "tT_j8PPGOh2l",
        "outputId": "4ee4c1cf-7854-4c26-a893-006c9da1ea8e"
      },
      "execution_count": 2,
      "outputs": [
        {
          "output_type": "stream",
          "name": "stderr",
          "text": [
            "<ipython-input-2-9bfda1f97e3d>:18: DeprecationWarning: `np.float` is a deprecated alias for the builtin `float`. To silence this warning, use `float` by itself. Doing this will not modify any behavior and is safe. If you specifically wanted the numpy scalar type, use `np.float64` here.\n",
            "Deprecated in NumPy 1.20; for more details and guidance: https://numpy.org/devdocs/release/1.20.0-notes.html#deprecations\n",
            "  X=np.vstack(X).astype(np.float)\n",
            "<ipython-input-2-9bfda1f97e3d>:19: DeprecationWarning: `np.float` is a deprecated alias for the builtin `float`. To silence this warning, use `float` by itself. Doing this will not modify any behavior and is safe. If you specifically wanted the numpy scalar type, use `np.float64` here.\n",
            "Deprecated in NumPy 1.20; for more details and guidance: https://numpy.org/devdocs/release/1.20.0-notes.html#deprecations\n",
            "  Y=np.vstack(Y).astype(np.float)\n"
          ]
        },
        {
          "output_type": "stream",
          "name": "stdout",
          "text": [
            "epoch 0 // loss : 306.4560241699219\n",
            "epoch 20 // loss : 16.20532989501953\n",
            "epoch 40 // loss : 14.987722396850586\n",
            "epoch 60 // loss : 13.490015983581543\n",
            "epoch 80 // loss : 12.27328872680664\n",
            "epoch 100 // loss : 11.75764274597168\n",
            "epoch 120 // loss : 10.721931457519531\n",
            "epoch 140 // loss : 10.519545555114746\n",
            "epoch 160 // loss : 11.161391258239746\n",
            "epoch 180 // loss : 10.449235916137695\n",
            "epoch 200 // loss : 11.637478828430176\n",
            "epoch 220 // loss : 10.646893501281738\n",
            "epoch 240 // loss : 9.843896865844727\n",
            "epoch 260 // loss : 20.358915328979492\n",
            "epoch 280 // loss : 9.541389465332031\n",
            "epoch 300 // loss : 12.615290641784668\n",
            "epoch 320 // loss : 12.023781776428223\n",
            "epoch 340 // loss : 10.344371795654297\n",
            "epoch 360 // loss : 12.538782119750977\n",
            "epoch 380 // loss : 11.200992584228516\n",
            "epoch 400 // loss : 9.977457046508789\n",
            "epoch 420 // loss : 10.46745491027832\n",
            "epoch 440 // loss : 11.971872329711914\n",
            "epoch 460 // loss : 12.153159141540527\n",
            "epoch 480 // loss : 10.073965072631836\n",
            "epoch 500 // loss : 8.73437213897705\n",
            "epoch 520 // loss : 8.888031005859375\n",
            "epoch 540 // loss : 10.229537963867188\n",
            "epoch 560 // loss : 22.212379455566406\n",
            "epoch 580 // loss : 9.608207702636719\n",
            "epoch 600 // loss : 8.823102951049805\n",
            "epoch 620 // loss : 8.685111999511719\n",
            "epoch 640 // loss : 8.101058959960938\n",
            "epoch 660 // loss : 8.115530967712402\n",
            "epoch 680 // loss : 8.104645729064941\n",
            "epoch 700 // loss : 8.115113258361816\n",
            "epoch 720 // loss : 11.10934829711914\n",
            "epoch 740 // loss : 8.892555236816406\n",
            "epoch 760 // loss : 20.74602699279785\n",
            "epoch 780 // loss : 8.909318923950195\n"
          ]
        }
      ]
    },
    {
      "cell_type": "markdown",
      "source": [
        "## 모델 성능 평가"
      ],
      "metadata": {
        "id": "zpWt3JzUSmWp"
      }
    },
    {
      "cell_type": "code",
      "source": [
        "prediction = model(torch.FloatTensor(X[0, :13]))\n",
        "real = Y[0]\n",
        "\n",
        "print(f\"prediction : {prediction.item()} // real value : {real}\")"
      ],
      "metadata": {
        "colab": {
          "base_uri": "https://localhost:8080/"
        },
        "id": "sFgzIdpJSrCw",
        "outputId": "1dafa801-5e8f-4cba-8d6e-e8cfef5b99e5"
      },
      "execution_count": 3,
      "outputs": [
        {
          "output_type": "stream",
          "name": "stdout",
          "text": [
            "prediction : 34.231204986572266 // real value : [24.]\n"
          ]
        }
      ]
    },
    {
      "cell_type": "code",
      "source": [],
      "metadata": {
        "id": "PSIUv9_0Oo7j"
      },
      "execution_count": 3,
      "outputs": []
    }
  ]
}